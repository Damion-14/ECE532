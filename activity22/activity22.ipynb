{
 "cells": [
  {
   "cell_type": "markdown",
   "id": "7a07855a",
   "metadata": {},
   "source": [
    "##### Question 1"
   ]
  },
  {
   "cell_type": "markdown",
   "id": "f8872e59",
   "metadata": {},
   "source": [
    "$$\n",
    "h_1 = \\sigma(2+4+2) = 8\n",
    "$$\n",
    "$$\n",
    "h_2 = \\sigma(-2+12-8) = 2\n",
    "$$\n",
    "$$\n",
    "y_1 = \\sigma(4-1) = 3\n",
    "$$\n",
    "$$\n",
    "y_2 = \\sigma(-4+1) = 0\n",
    "$$"
   ]
  },
  {
   "cell_type": "markdown",
   "id": "d149301b",
   "metadata": {},
   "source": [
    "##### Question 2-a"
   ]
  },
  {
   "cell_type": "markdown",
   "id": "fa82a7cf",
   "metadata": {},
   "source": [
    "$$\n",
    "\\hat{y^i} = \\max(0, z^i) = \\max(0, \\sum_{j=0}^Pw_jx_j^i)\n",
    "$$"
   ]
  },
  {
   "cell_type": "markdown",
   "id": "b92db7d1",
   "metadata": {},
   "source": [
    "##### Question 2-b"
   ]
  },
  {
   "cell_type": "markdown",
   "id": "bfb862e7",
   "metadata": {},
   "source": [
    "i)\n",
    "$$\n",
    "\\frac{\\partial f(w)}{\\partial w_j} = \\sum_{i=1}^n \\frac{\\partial f}{\\partial \\hat{y}_i} \\cdot \\frac{\\partial \\hat{y}_i}{\\partial z_i} \\cdot \\frac{\\partial z_i}{\\partial w_j}\n",
    "$$\n",
    "$$\n",
    "\\frac{\\partial f}{\\partial \\hat{y}_i} = (\\hat{y}_i - y_i)\n",
    "$$\n",
    "$$\n",
    "\\frac{\\partial \\hat{y}_i}{\\partial z_i} = \n",
    "\\begin{cases}\n",
    "1 & \\text{if } z_i > 0 \\\\\n",
    "0 & \\text{if } z_i \\leq 0\n",
    "\\end{cases}\n",
    "$$\n",
    "$$\n",
    "\\frac{\\partial z_i}{\\partial w_j} = x_j^i\n",
    "$$\n",
    "$$\n",
    "\\frac{\\partial f(w)}{\\partial w_j} = \\sum_{i=1}^n (\\hat{y}_i - y_i) \\cdot \\mathbb{1}_{z_i > 0} \\cdot x_{ij}\n",
    "$$\n",
    "\n",
    "ii)\n",
    "```python\n",
    "for epoch in range(epochs):\n",
    "    for i in range(n):\n",
    "        z_i = sum(w[j] * X[i][j] for j in range(p+1))\n",
    "        y_hat = max(0, z_i)\n",
    "        error = y_hat - y[i]\n",
    "        \n",
    "        for j in range(p+1):\n",
    "            grad = error * X[i][j] if z_i > 0 else 0\n",
    "            w[j] = w[j] - alpha * grad\n",
    "```"
   ]
  },
  {
   "cell_type": "markdown",
   "id": "dad4bd09",
   "metadata": {},
   "source": [
    "##### Question 2-c"
   ]
  },
  {
   "cell_type": "markdown",
   "id": "52268529",
   "metadata": {},
   "source": [
    "$$\n",
    "\\frac{\\partial f^i(w)}{\\partial w^i} = \\frac{\\partial f^i(w)}{\\partial y^i} \\cdot \\frac{\\partial y^i}{\\partial z^i}  \\cdot \\frac{\\partial z^i}{\\partial w^i}\n",
    "$$\n",
    "$$\n",
    "\\frac{\\partial f^i(w)}{\\partial y^i} = (\\hat{y}_i - y_i) + 2\\lambda w_j\n",
    "$$\n",
    "$$\n",
    "\\frac{\\partial y^i}{\\partial z^i} = \\hat{y}_i(1 - \\hat{y}_i)\n",
    "$$\n",
    "$$\n",
    "\\frac{\\partial z^i}{\\partial w^i} = x_j^i\n",
    "$$\n",
    "\n",
    "$$\n",
    "\\frac{\\partial f_i(w)}{\\partial w^i} = (\\hat{y}_i - y_i) \\cdot \\hat{y}_i(1 - \\hat{y}_i) \\cdot x_{ij} + 2\\lambda w_j\n",
    "$$"
   ]
  },
  {
   "cell_type": "markdown",
   "id": "174a0958",
   "metadata": {},
   "source": []
  }
 ],
 "metadata": {
  "language_info": {
   "name": "python"
  }
 },
 "nbformat": 4,
 "nbformat_minor": 5
}
