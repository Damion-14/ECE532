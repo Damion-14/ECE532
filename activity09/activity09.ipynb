{
 "cells": [
  {
   "cell_type": "markdown",
   "metadata": {},
   "source": [
    "### Activity 9\n",
    "Damion Huppert"
   ]
  },
  {
   "cell_type": "code",
   "execution_count": 33,
   "metadata": {},
   "outputs": [],
   "source": [
    "import numpy as np\n",
    "import matplotlib.pyplot as plt"
   ]
  },
  {
   "cell_type": "markdown",
   "metadata": {},
   "source": [
    "##### Question 1-a"
   ]
  },
  {
   "cell_type": "markdown",
   "metadata": {},
   "source": [
    "$$\n",
    "X = \\begin{bmatrix} 1 & 1 \\\\ -2 & -2 \\end{bmatrix}\n",
    "$$\n",
    "$$\n",
    "y = \\begin{bmatrix} 2 \\\\ -4 \\end{bmatrix}\n",
    "$$\n",
    "$$\n",
    "w = \\begin{bmatrix} w_1 \\\\ w_2 \\end{bmatrix}\n",
    "$$\n",
    "$$\n",
    "Xw = \\begin{bmatrix} w_1 + w_2 \\\\ -2w_1 -2w_2 \\end{bmatrix}\n",
    "$$\n",
    "$$\n",
    "w_1 + w_2 = 2\n",
    "$$\n",
    "$$\n",
    "w_1 + w_2 = 2\n",
    "$$\n",
    "\n",
    "The solution is not unique because both equations are the same, the solution lies on the line $w_1 + w_2 = 2\n",
    "$  \n",
    "\n",
    "$$\n",
    "\\min_w ||Xw - y||_2^2 = 0\n",
    "$$\n"
   ]
  },
  {
   "cell_type": "code",
   "execution_count": 34,
   "metadata": {},
   "outputs": [
    {
     "data": {
      "image/png": "[encoded data removed]",
      "text/plain": [
       "<Figure size 400x400 with 1 Axes>"
      ]
     },
     "metadata": {},
     "output_type": "display_data"
    }
   ],
   "source": [
    "w1 = np.linspace(-2, 4, 100) \n",
    "w2 = 2 - w1\n",
    "\n",
    "plt.figure(figsize=(4,4))\n",
    "plt.plot(w1, w2, label=r'$w_1 + w_2 = 2$', color='blue')\n",
    "\n",
    "plt.axhline(0, color='black', linewidth=1)\n",
    "plt.axvline(0, color='black', linewidth=1)\n",
    "plt.xlabel(r'$w_1$')\n",
    "plt.ylabel(r'$w_2$')\n",
    "plt.title('Set of Solutions for $w_1 + w_2 = 2$')\n",
    "plt.legend()\n",
    "plt.grid()\n",
    "plt.show()\n"
   ]
  },
  {
   "cell_type": "markdown",
   "metadata": {},
   "source": [
    "##### Question 1-b"
   ]
  },
  {
   "cell_type": "markdown",
   "metadata": {},
   "source": [
    "$$\n",
    "\\min_w ||w||_2^2 \\quad \\text{subject to} \\quad w_1 + w_2 = 2\n",
    "$$\n",
    "By analyzing the graph we can see $w$ will be smallest when $ w = \\begin{bmatrix} 1 \\\\ 1 \\end{bmatrix} $  \n",
    "This solution is unique, because there is only one value that is the minimum of $ ||w||_2^2 = \\sqrt{2} $  \n",
    "\n",
    "The error at the solution is 0 because (1, 1) lies on the line $w_1 + w_2 = 2$"
   ]
  },
  {
   "cell_type": "markdown",
   "metadata": {},
   "source": [
    "##### Questoin 1-c"
   ]
  },
  {
   "cell_type": "markdown",
   "metadata": {},
   "source": [
    "$$\n",
    "\\hat{w} = \\arg\\min_w \\left\\{ ||Xw - y||_2^2 + \\lambda ||w||_2^2 \\right\\}\n",
    "$$\n",
    "$\n",
    "\\|Xw - y\\|_2^2 = (Xw - y)^T (Xw - y) \\text{ and } \\|w\\|_2^2 = w^Tw\n",
    "$\n",
    "$$\n",
    "f(w) = (Xw - y)^T (Xw - y) + \\lambda w^Tw\n",
    "$$\n",
    "$ (Xw - y)^T = (Xw)^T -y^T  \\text{ and } y^T(Xw) = y(Xw)^T $\n",
    "$$\n",
    "f(w) = (Xw)^T (Xw) - 2(Xw)^T y + y^T y + \\lambda w^T w\n",
    "$$\n",
    "$$\n",
    "f(w) = w^TX^TXw - 2w^TX^Ty + y^T y + \\lambda w^T w\n",
    "$$\n",
    "To find the minimum take the gradient and set it equal to 0  \n",
    "\n",
    "$$\n",
    "\\nabla_w f(w) = 2 X^T X w - 2 X^T y + 2 \\lambda w = 0\n",
    "$$\n",
    "$$\n",
    "2 X^T X w + 2 \\lambda w = 2 X^T y\n",
    "$$\n",
    "$$\n",
    "X^T X w + \\lambda w = X^T y\n",
    "$$\n",
    "$$\n",
    "(X^T X + \\lambda I)w = X^T y\n",
    "$$\n",
    "---\n",
    "$$\n",
    "X^T X = \\begin{bmatrix} 5 & 5 \\\\ 5 & 5 \\end{bmatrix}\n",
    "$$\n",
    "$$\n",
    "A = X^T X + \\lambda I = \\begin{bmatrix} 5 + \\lambda & 5 \\\\ 5 & 5 + \\lambda \\end{bmatrix}\n",
    "$$\n",
    "$$\n",
    "w = A^{-1}X^T y\n",
    "$$\n",
    "$$\n",
    "A^{-1} = \\begin{bmatrix} 5 + \\lambda & 5 \\\\ 5 & 5 + \\lambda \\end{bmatrix}^{-1}\n",
    "= \\frac{1}{25 + 10\\lambda + \\lambda^2 - 25} \\begin{bmatrix} 5+\\lambda & -5 \\\\ -5 & 5+\\lambda \\end{bmatrix}\n",
    "$$\n",
    "$$\n",
    "A^{-1} = \\frac{1}{\\lambda(10 + \\lambda)} \\begin{bmatrix} 5+\\lambda & -5 \\\\ -5 & 5+\\lambda \\end{bmatrix}\n",
    "$$\n",
    "$$\n",
    "w = \\frac{1}{\\lambda(10 + \\lambda)} \\begin{bmatrix} 5+\\lambda & -5 \\\\ -5 & 5+\\lambda \\end{bmatrix} \\begin{bmatrix} 10 \\\\ 10 \\end{bmatrix}\n",
    "$$\n",
    "$$\n",
    "w = \\frac{1}{\\lambda(10 + \\lambda)} \\begin{bmatrix} 10(5+\\lambda) - 50  \\\\ 10(5+\\lambda) -50 \\end{bmatrix}\n",
    "$$\n",
    "$$\n",
    "w = \\frac{10(5+\\lambda) - 50}{\\lambda(10 + \\lambda)} \\begin{bmatrix} 1  \\\\ 1 \\end{bmatrix}\n",
    "$$\n",
    "$$\n",
    "w = \\frac{50 + 10\\lambda - 50}{\\lambda(10 + \\lambda)} \\begin{bmatrix} 1  \\\\ 1 \\end{bmatrix}\n",
    "$$\n",
    "$$\n",
    "w = \\frac{10\\lambda}{\\lambda(10 + \\lambda)} \\begin{bmatrix} 1  \\\\ 1 \\end{bmatrix}\n",
    "$$\n",
    "$$\n",
    "w = \\frac{10}{(10 + \\lambda)} \\begin{bmatrix} 1  \\\\ 1 \\end{bmatrix}\n",
    "$$"
   ]
  },
  {
   "cell_type": "code",
   "execution_count": 35,
   "metadata": {},
   "outputs": [
    {
     "name": "stdout",
     "output_type": "stream",
     "text": [
      "[[5 5]\n",
      " [5 5]]\n",
      "\n",
      "[10 10]\n"
     ]
    }
   ],
   "source": [
    "X = np.array([[1, 1], [-2, -2]])\n",
    "y = np.array([2, -4])\n",
    "print(X.T @ X)\n",
    "print()\n",
    "print(X.T @ y)"
   ]
  },
  {
   "cell_type": "markdown",
   "metadata": {},
   "source": [
    "##### Questoin 1-d"
   ]
  },
  {
   "cell_type": "code",
   "execution_count": 36,
   "metadata": {},
   "outputs": [
    {
     "data": {
      "image/png": "[encoded data removed]",
      "text/plain": [
       "<Figure size 600x600 with 1 Axes>"
      ]
     },
     "metadata": {},
     "output_type": "display_data"
    }
   ],
   "source": [
    "w1_line = np.linspace(-2, 4, 100)\n",
    "w2_line = 2 - w1_line \n",
    "\n",
    "lambda_vals = np.linspace(0, 100, 100) \n",
    "\n",
    "w1_reg = 10 / (10 + lambda_vals)\n",
    "w2_reg = 10 / (10 + lambda_vals)\n",
    "\n",
    "plt.figure(figsize=(6, 6))\n",
    "plt.plot(w1_line, w2_line, label=r'$w_1 + w_2 = 2$', color='blue')\n",
    "\n",
    "plt.plot(w1_reg, w2_reg, label=r'Regularized Solution $w(\\lambda)$', color='red', linestyle='dashed')\n",
    "\n",
    "plt.scatter([1], [1], color='green', label=r'$\\lambda = 0$ solution (1,1)', zorder=3)\n",
    "plt.scatter([2/3], [2/3], color='orange', label=r'$\\lambda = 5$ solution $(\\frac{2}{3}, \\frac{2}{3})$', zorder=3)\n",
    "plt.scatter([0], [0], color='purple', label=r'$\\lambda \\to \\infty$ solution (0,0)', zorder=3)\n",
    "\n",
    "# Formatting\n",
    "plt.axhline(0, color='black', linewidth=1)\n",
    "plt.axvline(0, color='black', linewidth=1)\n",
    "plt.xlabel(r'$w_1$')\n",
    "plt.ylabel(r'$w_2$')\n",
    "plt.title('Set of Solutions for $w_1 + w_2 = 2$ and Regularized Solutions')\n",
    "plt.legend()\n",
    "plt.grid()\n",
    "plt.show()\n"
   ]
  },
  {
   "cell_type": "markdown",
   "metadata": {},
   "source": [
    "##### Question 2-a"
   ]
  },
  {
   "cell_type": "markdown",
   "metadata": {},
   "source": [
    "Columns of X:\n",
    "$$\n",
    "c_1 = \\begin{bmatrix} 1 \\\\ 1 \\\\ 1 \\\\ 1 \\end{bmatrix} \n",
    "\\quad\n",
    "c_2 =  \\begin{bmatrix} \\gamma \\\\ -\\gamma \\\\ -\\gamma \\\\ \\gamma \\end{bmatrix}\n",
    "$$\n",
    "$$\n",
    "c_1 \\cdot c_2 = (1)(\\gamma) + (1)(-\\gamma) + (1)(-\\gamma) + (1)(\\gamma) = \\gamma - \\gamma - \\gamma + \\gamma = 0\n",
    "$$  \n",
    "\n",
    "Therefore because the dot product is always 0 $ c_1 $ and $ c_2 $ are orthoganal $ \\forall \\gamma $"
   ]
  },
  {
   "cell_type": "markdown",
   "metadata": {},
   "source": [
    "##### Question 2-b"
   ]
  },
  {
   "cell_type": "markdown",
   "metadata": {},
   "source": [
    "$$\n",
    "X = \\begin{bmatrix} 1 & \\gamma \\\\ 1 & -\\gamma \\\\ 1 & -\\gamma \\\\ 1 & \\gamma\\end{bmatrix} \n",
    "$$\n",
    "$$\n",
    "U = \\begin{bmatrix} u_{11} & u_{12} \\\\ u_{21} &  u_{22} \\\\ u_{31} & u_{31} \\\\ u_{41} & u_{42} \\end{bmatrix}\n",
    "$$\n",
    "$$\n",
    "\\Sigma = \\begin{bmatrix} s_{11} & 0 \\\\ 0 &  s_{22} \\end{bmatrix}\n",
    "$$\n",
    "$$\n",
    "U \\times \\Sigma = \\begin{bmatrix}\n",
    "u_{11} s_{11} & u_{12} s_{22} \\\\\n",
    "u_{21} s_{11} & u_{22} s_{22} \\\\\n",
    "u_{31} s_{11} & u_{31} s_{22} \\\\\n",
    "u_{41} s_{11} & u_{42} s_{22}\n",
    "\\end{bmatrix}\n",
    "$$\n",
    "$$\n",
    "U = \\begin{bmatrix} u_{11} & u_{12} \\\\ u_{21} &  u_{22} \\\\ u_{31} & u_{32} \\\\ u_{41} & u_{42} \\end{bmatrix}\n",
    "$$\n",
    "$$\n",
    "\\Sigma = \\begin{bmatrix} s_{11} & 0 \\\\ 0 &  s_{22} \\end{bmatrix}\n",
    "$$\n",
    "From $ X = U \\Sigma $:\n",
    "\n",
    "- $ u_{11} s_{11} = 1 $\n",
    "- $ u_{12} s_{22} = \\gamma $\n",
    "- $ u_{21} s_{11} = 1 $\n",
    "- $ u_{22} s_{22} = -\\gamma $\n",
    "- $ u_{31} s_{11} = 1 $\n",
    "- $ u_{32} s_{22} = -\\gamma $\n",
    "- $ u_{41} s_{11} = 1 $\n",
    "- $ u_{42} s_{22} = \\gamma $\n",
    "\n",
    "$$\n",
    "U = \\begin{bmatrix} 1 & 1 \\\\ 1 &  -1 \\\\ 1 & -1 \\\\ 1 & 1 \\end{bmatrix}\n",
    "$$\n",
    "$$\n",
    "\\Sigma = \\begin{bmatrix} 1 & 0 \\\\ 0 &  \\gamma \\end{bmatrix}\n",
    "$$"
   ]
  },
  {
   "cell_type": "markdown",
   "metadata": {},
   "source": [
    "##### Question 2-c"
   ]
  },
  {
   "cell_type": "markdown",
   "metadata": {},
   "source": [
    "$$\n",
    "\\min_w ||Xw - y||_2^2 =  \\min_w ||(U\\Sigma)w - y||_2^2\n",
    "$$\n",
    "$$\n",
    "w = \\left( (U\\Sigma)^T (U\\Sigma) \\right)^{-1} (U\\Sigma)^T y\n",
    "$$\n",
    "$ (U\\Sigma)^T (U\\Sigma) = \\Sigma^T U^T U \\Sigma $\n",
    "$$\n",
    "w = \\left( \\Sigma^T U^T U \\Sigma \\right)^{-1} \\Sigma^T U^T y\n",
    "$$\n"
   ]
  },
  {
   "cell_type": "code",
   "execution_count": 37,
   "metadata": {},
   "outputs": [
    {
     "name": "stdout",
     "output_type": "stream",
     "text": [
      "[[4 0]\n",
      " [0 4]]\n"
     ]
    }
   ],
   "source": [
    "U = np.array([[1, 1], [1, -1], [1, -1], [1, 1]])\n",
    "print(U.T @ U)"
   ]
  },
  {
   "cell_type": "markdown",
   "metadata": {},
   "source": [
    "##### Question 2-d"
   ]
  },
  {
   "cell_type": "markdown",
   "metadata": {},
   "source": [
    "$$\n",
    "y = \\begin{bmatrix} 1 \\\\ 0 \\\\ 0 \\\\ 1 \\end{bmatrix} \n",
    "$$\n",
    "$$\n",
    "U^T U = \\begin{bmatrix} 4 & 0 \\\\ 0 & 4 \\end{bmatrix} \n",
    "$$\n",
    "$$\n",
    "w = \\left( \\Sigma^T U^T U \\Sigma \\right)^{-1} \\Sigma^T U^T y\n",
    "$$\n",
    "$\\Sigma^T U^T U \\Sigma =\\begin{bmatrix} 1 & 0 \\\\ 0 &  \\gamma \\end{bmatrix} \\begin{bmatrix} 4 & 0 \\\\ 0 & 4 \\end{bmatrix}  \\begin{bmatrix} 1 & 0 \\\\ 0 &  \\gamma \\end{bmatrix} = \\begin{bmatrix} 4 & 0 \\\\ 0 &  4\\gamma^2 \\end{bmatrix}\n",
    "$  \n",
    "$$ $$\n",
    "$(\\Sigma^T U^T U \\Sigma)^{-1} =  \\begin{bmatrix} 4 & 0 \\\\ 0 &  4\\gamma^2 \\end{bmatrix}^{-1} = \\frac{1}{16\\gamma^2}\\begin{bmatrix} 4\\gamma^2 & 0 \\\\ 0 &  4 \\end{bmatrix} = \\begin{bmatrix} \\frac{1}{4} & 0 \\\\ 0 &  \\frac{1}{4\\gamma^2} \\end{bmatrix}$\n",
    "$$ $$\n",
    "$\\Sigma^T U^T y=  \\begin{bmatrix} 1 & 0 \\\\ 0 & \\gamma \\end{bmatrix} \\begin{bmatrix} 1 & 1 & 1 & 1 \\\\ 1 & -1 & -1 & 1 \\end{bmatrix} \\begin{bmatrix} 1 \\\\ 0 \\\\ 0 \\\\ 1 \\end{bmatrix} = \\begin{bmatrix} 2 \\\\ 2\\gamma \\end{bmatrix} $\n",
    "\n",
    "$$\n",
    "w \n",
    "= \n",
    "\\begin{bmatrix} \\frac{1}{4} & 0 \\\\ 0 &  \\frac{1}{4\\gamma^2} \\end{bmatrix} \\begin{bmatrix} 2 \\\\ 2\\gamma \\end{bmatrix}\n",
    "=\n",
    "\\begin{bmatrix} \n",
    "\\frac{1}{2} \\\\[3pt] \n",
    "\\frac{1}{2\\gamma} \n",
    "\\end{bmatrix}\n",
    "$$\n",
    "\n",
    "As $\\gamma \\to 0$ $ w \\to \\begin{bmatrix} \\frac{1}{2} \\\\ \\infty \\end{bmatrix} $ "
   ]
  },
  {
   "cell_type": "markdown",
   "metadata": {},
   "source": [
    "##### Question 2-e"
   ]
  },
  {
   "cell_type": "markdown",
   "metadata": {},
   "source": [
    "$ \\gamma = 0.1 $\n",
    "$$\n",
    "\\text{condition number} = \\frac{1}{0.1} = 10\n",
    "$$\n",
    "$$\n",
    "||w||_2^2 = \\sqrt{\\left( \\frac{1}{2} \\right)^2 + \\left( \\frac{1}{2 \\times 0.1} \\right)^2}  = 5.025$$\n",
    "---\n",
    "$ \\gamma = 10^{-8} $\n",
    "$$\n",
    "\\text{condition number} = \\frac{1}{10^{-8}} = 10^8\n",
    "$$\n",
    "$$\n",
    "||w||_2^2 = \\sqrt{\\left( \\frac{1}{2} \\right)^2 + \\left( \\frac{1}{2 \\times 10^{-8}} \\right)^2}  = 5 \\times 10^7\n",
    "$$"
   ]
  },
  {
   "cell_type": "markdown",
   "metadata": {},
   "source": [
    "##### Question 2-f"
   ]
  },
  {
   "cell_type": "markdown",
   "metadata": {},
   "source": [
    "$$\n",
    "w_0 = \n",
    "\\begin{bmatrix} \n",
    "\\frac{1}{2} \\\\[3pt] \n",
    "\\frac{1}{2\\gamma} \n",
    "\\end{bmatrix}\n",
    "$$\n",
    "$$\n",
    "w_\\epsilon = \n",
    "\\begin{bmatrix} \\frac{1}{4} & 0 \\\\ 0 &  \\frac{1}{4\\gamma^2} \\end{bmatrix} \\begin{bmatrix} 2 + \\epsilon \\\\ 2\\gamma + \\epsilon\\gamma \\end{bmatrix}\n",
    "=\n",
    "\\begin{bmatrix} \n",
    "\\frac{1}{2} + \\frac{1}{4} \\epsilon \\\\[3pt] \n",
    "\\frac{2 + \\epsilon}{4\\gamma} \n",
    "\\end{bmatrix}\n",
    "$$"
   ]
  },
  {
   "cell_type": "code",
   "execution_count": 40,
   "metadata": {},
   "outputs": [
    {
     "name": "stdout",
     "output_type": "stream",
     "text": [
      "gamma = 0.1\n",
      "w_0 = [0.5 5. ]\n",
      "w_epsilon = [[0.5025]\n",
      " [5.025 ]]\n",
      "gamma = 10^-8\n",
      "w_0 = [5.e-01 5.e+07]\n",
      "w_epsilon = [[5.025e-01]\n",
      " [5.025e+07]]\n"
     ]
    }
   ],
   "source": [
    "gamma = 0.1\n",
    "epsilon = 0.01 \n",
    "w_0 = np.array([1/2, 1/(2*gamma)])\n",
    "w_epsilon = np.array([[.5 + .25*epsilon],[(2+epsilon)/(4*gamma)]])\n",
    "print(\"gamma = 0.1\")\n",
    "print(\"w_0 =\", w_0)\n",
    "print(\"w_epsilon =\", w_epsilon)\n",
    "\n",
    "gamma = 10**-8\n",
    "w_0 = np.array([1/2, 1/(2*gamma)])\n",
    "w_epsilon = np.array([[.5 + .25*epsilon],[(2+epsilon)/(4*gamma)]])\n",
    "print(\"gamma = 10^-8\")\n",
    "print(\"w_0 =\", w_0)\n",
    "print(\"w_epsilon =\", w_epsilon)\n"
   ]
  },
  {
   "cell_type": "markdown",
   "metadata": {},
   "source": [
    "##### Question 2-g"
   ]
  },
  {
   "cell_type": "markdown",
   "metadata": {},
   "source": [
    "$$\n",
    "U = \\begin{bmatrix} 1 & 1 \\\\ 1 &  -1 \\\\ 1 & -1 \\\\ 1 & 1 \\end{bmatrix}\n",
    "$$\n",
    "$$\n",
    "\\Sigma = \\begin{bmatrix} 1 & 0 \\\\ 0 &  \\gamma \\end{bmatrix}\n",
    "$$\n",
    "$$\n",
    "y = \\begin{bmatrix} 1 \\\\ 0 \\\\ 0 \\\\ 1 \\end{bmatrix}\n",
    "$$\n",
    "$$\n",
    "y_\\epsilon = \\begin{bmatrix} 1 + \\epsilon \\\\ 0 \\\\ 0 \\\\ 1 \\end{bmatrix}\n",
    "$$\n",
    "---\n",
    "$$\n",
    "w = \\arg\\min_w ||Xw - y||_2^2 + \\lambda ||w||_2^2\n",
    "$$\n",
    "From 1-c:\n",
    "$$\n",
    "w = ( X^T X + \\lambda I )^{-1}X^T y\n",
    "$$\n",
    "$ X = U \\Sigma $\n",
    "$$\n",
    "w = ( (U \\Sigma)^T U \\Sigma + \\lambda I )^{-1}(U \\Sigma)^T y\n",
    "$$\n",
    "$$\n",
    "w = \\left( \\Sigma^T \\Sigma + \\lambda I \\right)^{-1} \\Sigma^T U^T y.\n",
    "$$\n",
    "\n",
    "$$\n",
    "w_0 = \\left( \\Sigma^T \\Sigma + \\lambda I \\right)^{-1} \\Sigma^T U^T y.\n",
    "$$\n",
    "$$\n",
    "w_\\epsilon = \\left( \\Sigma^T \\Sigma + \\lambda I \\right)^{-1} \\Sigma^T U^T y_\\epsilon.\n",
    "$$\n",
    "$$\n",
    "w_0 = \n",
    "\\begin{bmatrix} \n",
    "\\frac{2}{1 + \\lambda} \\\\[3pt]\n",
    "\\frac{2\\gamma}{\\gamma^2 + \\lambda} \n",
    "\\end{bmatrix}, \n",
    "\\quad\n",
    "w_\\epsilon = \n",
    "\\begin{bmatrix} \n",
    "\\frac{2 + \\epsilon}{1 + \\lambda} \\\\[3pt] \n",
    "\\frac{2\\gamma + \\gamma \\epsilon}{\\gamma^2 + \\lambda} \n",
    "\\end{bmatrix}\n",
    "$$"
   ]
  },
  {
   "cell_type": "code",
   "execution_count": 42,
   "metadata": {},
   "outputs": [
    {
     "name": "stdout",
     "output_type": "stream",
     "text": [
      "gamma = 0.1\n",
      "w_0 = [1.81818182 2.85714286]\n",
      "w_epsilon = [1.82727273 2.87142857]\n",
      "gamma = 10^-8\n",
      "w_0 = [1.81818182 2.85714286]\n",
      "w_epsilon = [1.81818183 2.85714287]\n"
     ]
    }
   ],
   "source": [
    "\n",
    "lambda_ = 0.1 \n",
    "gamma = 0.5\n",
    "epsilon = 0.01 \n",
    "\n",
    "w_0 = np.array([\n",
    "    2 / (1 + lambda_),\n",
    "    (2 * gamma) / (gamma**2 + lambda_)\n",
    "])\n",
    "\n",
    "w_epsilon = np.array([\n",
    "    (2 + epsilon) / (1 + lambda_),\n",
    "    (2 * gamma + gamma * epsilon) / (gamma**2 + lambda_)\n",
    "])\n",
    "\n",
    "print(\"gamma = 0.1\")\n",
    "print(\"w_0 =\", w_0)\n",
    "print(\"w_epsilon =\", w_epsilon)\n",
    "\n",
    "epsilon = 10**-8\n",
    "\n",
    "w_0 = np.array([\n",
    "    2 / (1 + lambda_),\n",
    "    (2 * gamma) / (gamma**2 + lambda_)\n",
    "])\n",
    "\n",
    "w_epsilon = np.array([\n",
    "    (2 + epsilon) / (1 + lambda_),\n",
    "    (2 * gamma + gamma * epsilon) / (gamma**2 + lambda_)\n",
    "])\n",
    "print(\"gamma = 10^-8\")\n",
    "print(\"w_0 =\", w_0)\n",
    "print(\"w_epsilon =\", w_epsilon)\n"
   ]
  },
  {
   "cell_type": "markdown",
   "metadata": {},
   "source": [
    "The values of $w_0$ and $w_\\epsilon$ are now the same"
   ]
  }
 ],
 "metadata": {
  "kernelspec": {
   "display_name": "Python 3",
   "language": "python",
   "name": "python3"
  },
  "language_info": {
   "codemirror_mode": {
    "name": "ipython",
    "version": 3
   },
   "file_extension": ".py",
   "mimetype": "text/x-python",
   "name": "python",
   "nbconvert_exporter": "python",
   "pygments_lexer": "ipython3",
   "version": "3.12.3"
  }
 },
 "nbformat": 4,
 "nbformat_minor": 2
}
