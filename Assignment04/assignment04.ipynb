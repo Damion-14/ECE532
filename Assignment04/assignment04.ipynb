{
 "cells": [
  {
   "cell_type": "markdown",
   "metadata": {},
   "source": [
    "## Assignment 4\n",
    "Damion Hupppert"
   ]
  },
  {
   "cell_type": "code",
   "execution_count": 5,
   "metadata": {},
   "outputs": [],
   "source": [
    "import numpy as np\n",
    "from scipy.io import loadmat\n",
    "import matplotlib.pyplot as plt "
   ]
  },
  {
   "cell_type": "code",
   "execution_count": 7,
   "metadata": {},
   "outputs": [],
   "source": [
    "in_data = loadmat('face_emotion_data.mat')\n",
    "X = in_data['X']\n",
    "y = in_data['y']\n",
    "# print(X)\n",
    "# print(y)\n"
   ]
  },
  {
   "cell_type": "markdown",
   "metadata": {},
   "source": [
    "##### Question 1-a"
   ]
  },
  {
   "cell_type": "code",
   "execution_count": 17,
   "metadata": {},
   "outputs": [
    {
     "name": "stdout",
     "output_type": "stream",
     "text": [
      "[[ 0.94366942]\n",
      " [ 0.21373778]\n",
      " [ 0.26641775]\n",
      " [-0.39221373]\n",
      " [-0.00538552]\n",
      " [-0.01764687]\n",
      " [-0.16632809]\n",
      " [-0.0822838 ]\n",
      " [-0.16644364]]\n"
     ]
    }
   ],
   "source": [
    "w = np.linalg.inv(X.T @ X) @ X.T @ y\n",
    "print(w)"
   ]
  },
  {
   "cell_type": "markdown",
   "metadata": {},
   "source": [
    "##### Question 1-b"
   ]
  },
  {
   "cell_type": "markdown",
   "metadata": {},
   "source": [
    "We can use the weights by multiplying a new feature vector by them and using the sign of that so classify the face as happy or sad"
   ]
  },
  {
   "cell_type": "markdown",
   "metadata": {},
   "source": [
    "##### Question 1-c"
   ]
  },
  {
   "cell_type": "code",
   "execution_count": 24,
   "metadata": {},
   "outputs": [
    {
     "data": {
      "image/png": "[encoded data removed]",
      "text/plain": [
       "<Figure size 640x480 with 1 Axes>"
      ]
     },
     "metadata": {},
     "output_type": "display_data"
    }
   ],
   "source": [
    "import matplotlib.pyplot as plt\n",
    "w_1d = w.flatten()\n",
    "plt.bar(range(1, 10), np.abs(w_1d))\n",
    "plt.xlabel(\"Feature Index\")\n",
    "plt.ylabel(\"Importance (|w|)\")\n",
    "plt.title(\"Feature Importance\")\n",
    "plt.show()\n"
   ]
  },
  {
   "cell_type": "markdown",
   "metadata": {},
   "source": [
    "Features for $w_1$, $w_4$ and maybe $w_3$ are most important"
   ]
  },
  {
   "cell_type": "markdown",
   "metadata": {},
   "source": [
    "##### Question 1-d"
   ]
  },
  {
   "cell_type": "markdown",
   "metadata": {},
   "source": [
    "I would choose the three highest value features from the graph above and use those."
   ]
  },
  {
   "cell_type": "markdown",
   "metadata": {},
   "source": [
    "##### Question 1-e"
   ]
  },
  {
   "cell_type": "code",
   "execution_count": 27,
   "metadata": {},
   "outputs": [
    {
     "name": "stdout",
     "output_type": "stream",
     "text": [
      "[2 3 0]\n",
      "Full feature set error: 2.34%\n",
      "Reduced feature set error: 6.25%\n"
     ]
    }
   ],
   "source": [
    "best_w = np.argsort(np.abs(w_1d))[-3:]\n",
    "print(best_w)\n",
    "X_reduced = X[:, best_w]\n",
    "w_reduced = np.linalg.inv(X_reduced.T @ X_reduced) @ X_reduced.T @ y\n",
    "\n",
    "# Full feature set predictions\n",
    "y_pred_full = np.sign(X @ w)\n",
    "error_full = np.mean(y_pred_full != y) * 100\n",
    "\n",
    "# Reduced feature set predictions\n",
    "y_pred_reduced = np.sign(X_reduced @ w_reduced)\n",
    "error_reduced = np.mean(y_pred_reduced != y) * 100\n",
    "\n",
    "print(f\"Full feature set error: {error_full:.2f}%\")\n",
    "print(f\"Reduced feature set error: {error_reduced:.2f}%\")\n"
   ]
  },
  {
   "cell_type": "markdown",
   "metadata": {},
   "source": [
    "##### Question 1-f"
   ]
  },
  {
   "cell_type": "code",
   "execution_count": 28,
   "metadata": {},
   "outputs": [
    {
     "name": "stdout",
     "output_type": "stream",
     "text": [
      "Cross-Validation Error: 4.69%\n"
     ]
    }
   ],
   "source": [
    "num_folds = 8\n",
    "fold_size = 16\n",
    "errors = []\n",
    "\n",
    "for i in range(num_folds):\n",
    "    val_indices = list(range(i * fold_size, (i + 1) * fold_size))\n",
    "    train_indices = list(set(range(X.shape[0])) - set(val_indices))\n",
    "\n",
    "    X_train, y_train = X[train_indices], y[train_indices]\n",
    "    X_val, y_val = X[val_indices], y[val_indices]\n",
    "\n",
    "    w_cv = np.linalg.inv(X_train.T @ X_train) @ X_train.T @ y_train\n",
    "\n",
    "    y_pred_val = np.sign(X_val @ w_cv)\n",
    "    fold_error = np.mean(y_pred_val != y_val)\n",
    "\n",
    "    errors.append(fold_error)\n",
    "\n",
    "# Compute average cross-validation error\n",
    "cv_error = np.mean(errors) * 100\n",
    "print(f\"Cross-Validation Error: {cv_error:.2f}%\")\n"
   ]
  },
  {
   "cell_type": "markdown",
   "metadata": {},
   "source": [
    "##### Questoin 2-a"
   ]
  },
  {
   "cell_type": "markdown",
   "metadata": {},
   "source": [
    "Because $G$ is mxm and A is full rank,  \n",
    "$$rank(G) = m$$"
   ]
  },
  {
   "cell_type": "markdown",
   "metadata": {},
   "source": [
    "##### Question 2-b"
   ]
  },
  {
   "cell_type": "markdown",
   "metadata": {},
   "source": [
    "Because $R$ is mxm and A is full rank,  \n",
    "$$rank(R) = m$$"
   ]
  },
  {
   "cell_type": "markdown",
   "metadata": {},
   "source": [
    "##### Question 2-c"
   ]
  },
  {
   "cell_type": "markdown",
   "metadata": {},
   "source": [
    "$$\n",
    "A = (AG)R = AGR\n",
    "$$\n",
    "Therefore:\n",
    "$$\n",
    "GR = I\n",
    "$$\n",
    "G and R are inversese of each other"
   ]
  }
 ],
 "metadata": {
  "kernelspec": {
   "display_name": "Python 3",
   "language": "python",
   "name": "python3"
  },
  "language_info": {
   "codemirror_mode": {
    "name": "ipython",
    "version": 3
   },
   "file_extension": ".py",
   "mimetype": "text/x-python",
   "name": "python",
   "nbconvert_exporter": "python",
   "pygments_lexer": "ipython3",
   "version": "3.12.3"
  }
 },
 "nbformat": 4,
 "nbformat_minor": 2
}
