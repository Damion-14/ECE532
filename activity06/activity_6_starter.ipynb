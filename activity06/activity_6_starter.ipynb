{
 "cells": [
  {
   "cell_type": "code",
   "execution_count": 16,
   "metadata": {},
   "outputs": [
    {
     "name": "stdout",
     "output_type": "stream",
     "text": [
      "Solution:\n",
      " [[ 4.25]\n",
      " [17.5 ]\n",
      " [ 3.75]]\n"
     ]
    }
   ],
   "source": [
    "# Question 2a\n",
    "\n",
    "import numpy as np\n",
    "A = np.array([[25,0,1],[20,1,2],[40,1,6]])\n",
    "b = np.array([[110],[110],[210]])\n",
    "\n",
    "# To see rank, use: \n",
    "# np.linalg.matrix_rank(A)\n",
    "\n",
    "# To invert a matrix, use:\n",
    "# np.linalg.inv(A)\n",
    "\n",
    "# To multiply matrices in Python 3, use:\n",
    "# A@B\n",
    "\n",
    "\n",
    "# Check if A is invertible\n",
    "if np.linalg.matrix_rank(A) == A.shape[0]:\n",
    "    # Solve using direct inversion\n",
    "    x = np.linalg.inv(A) @ b\n",
    "    print(\"Solution:\\n\", x)"
   ]
  },
  {
   "cell_type": "code",
   "execution_count": 15,
   "metadata": {},
   "outputs": [
    {
     "name": "stdout",
     "output_type": "stream",
     "text": [
      "4\n",
      "4\n",
      "There is an exact solution\n",
      "There is not a unique solution because the rank of A is not 5\n",
      "4\n",
      "Unique solution\n",
      "[[ 1.21371651]\n",
      " [ 7.63039488]\n",
      " [14.31664595]\n",
      " [ 9.        ]\n",
      " [ 4.        ]]\n"
     ]
    }
   ],
   "source": [
    "# Question 2b\n",
    "import numpy as np\n",
    "A = np.array([[25,15,10,0,1],[20,12,8,1,2],[40,30,10,1,6], [30,15,15,0,3], [35,20,15,2,4]])\n",
    "b = np.array([[104],[97],[193],[132],[174]])\n",
    "\n",
    "print(np.linalg.matrix_rank(A))\n",
    "\n",
    "# Note: you can use np.hstack() to concatinate vectors, for example np.hstack((A,b))\n",
    "print(np.linalg.matrix_rank(np.hstack((A,b))))\n",
    "print(\"There is an exact solution\")\n",
    "# Note: you can select all the columns, except the first of a matrix A as:  A[:,1:]\n",
    "print('There is not a unique solution because the rank of A is not 5')\n",
    "\n",
    "A = np.array([[20,12,8,1,2],[40,30,10,1,6], [30,15,15,0,3], [35,20,15,2,4]])\n",
    "b = np.array([[97],[193],[132],[174]])\n",
    "\n",
    "print(np.linalg.matrix_rank(A))\n",
    "\n",
    "print(\"Unique solution\")\n",
    "print(np.linalg.inv(A.T@A)@A.T@b)"
   ]
  }
 ],
 "metadata": {
  "kernelspec": {
   "display_name": "Python 3",
   "language": "python",
   "name": "python3"
  },
  "language_info": {
   "codemirror_mode": {
    "name": "ipython",
    "version": 3
   },
   "file_extension": ".py",
   "mimetype": "text/x-python",
   "name": "python",
   "nbconvert_exporter": "python",
   "pygments_lexer": "ipython3",
   "version": "3.12.3"
  }
 },
 "nbformat": 4,
 "nbformat_minor": 2
}
