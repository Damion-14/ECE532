{
 "cells": [
  {
   "cell_type": "code",
   "execution_count": null,
   "metadata": {},
   "outputs": [],
   "source": [
    "import numpy as np \n",
    "\n",
    "A=np.array([[3,3,3,-1,-1,-1],[1,1,1,-3,-3,-3],[1,1,1,-3,-3,-3],[3,3,3,-1,-1,-1]])"
   ]
  },
  {
   "cell_type": "code",
   "execution_count": null,
   "metadata": {},
   "outputs": [],
   "source": [
    "#2c\n",
    "\n",
    "U,s,VT=np.linalg.svd(A,full_matrices=True)\n",
    "\n",
    "\n",
    "# Example of printing U^T*U\n",
    "print('UTU: \\n',np.round(U.T@U,3))\n",
    "\n",
    "# Example of printing first left singular vector\n",
    "print('First left singular vector: \\n',np.round(U[:,[0]],3))\n",
    "\n",
    "\n",
    "#Example of printing the singular values\n",
    "print('singular values:',np.round(s,4))"
   ]
  },
  {
   "cell_type": "code",
   "execution_count": null,
   "metadata": {},
   "outputs": [],
   "source": [
    "#2d -- Economy SVD\n",
    "U,s,VT=np.linalg.svd(A,full_matrices=False)\n"
   ]
  },
  {
   "cell_type": "code",
   "execution_count": null,
   "metadata": {},
   "outputs": [],
   "source": [
    "#2e\n"
   ]
  },
  {
   "cell_type": "code",
   "execution_count": null,
   "metadata": {},
   "outputs": [],
   "source": [
    "#2f\n"
   ]
  },
  {
   "cell_type": "code",
   "execution_count": null,
   "metadata": {},
   "outputs": [],
   "source": [
    "#2h\n",
    "#rank 1 approximation\n",
    "\n",
    "\n",
    "#rank 2 approximation\n",
    "A2=s[0]*U[:,[0]]*VT[[0],:]+s[1]*U[:,[1]]*VT[[1],:]\n",
    "print('rank 2 :\\n',np.round(A2,3))"
   ]
  },
  {
   "cell_type": "code",
   "execution_count": null,
   "metadata": {},
   "outputs": [],
   "source": []
  }
 ],
 "metadata": {
  "kernelspec": {
   "display_name": "Python 3",
   "language": "python",
   "name": "python3"
  },
  "language_info": {
   "codemirror_mode": {
    "name": "ipython",
    "version": 3
   },
   "file_extension": ".py",
   "mimetype": "text/x-python",
   "name": "python",
   "nbconvert_exporter": "python",
   "pygments_lexer": "ipython3",
   "version": "3.7.6"
  }
 },
 "nbformat": 4,
 "nbformat_minor": 4
}
