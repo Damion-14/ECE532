{
 "cells": [
  {
   "cell_type": "code",
   "execution_count": 2,
   "metadata": {},
   "outputs": [],
   "source": [
    "import numpy as np\n",
    "from scipy.io import loadmat"
   ]
  },
  {
   "cell_type": "markdown",
   "metadata": {},
   "source": [
    "##### Question 1-a"
   ]
  },
  {
   "cell_type": "markdown",
   "metadata": {},
   "source": [
    "$$\n",
    "V = \n",
    "\\begin{bmatrix}\n",
    "1 & X & X \\\\\n",
    "X & 2 & 4 \\\\\n",
    "-1 & 2 & X \\\\\n",
    "X & -2 & X\n",
    "\\end{bmatrix}\n",
    "$$\n",
    "1 rank matrix\n",
    "$$\n",
    "V = \n",
    "\\begin{bmatrix}\n",
    "1 & -2 & -4 \\\\\n",
    "-1 & 2 & 4 \\\\\n",
    "-1 & 2 & 4 \\\\\n",
    "1 & -2 & -4\n",
    "\\end{bmatrix}\n",
    "$$"
   ]
  },
  {
   "cell_type": "markdown",
   "metadata": {},
   "source": [
    "##### Question 1-b"
   ]
  },
  {
   "cell_type": "markdown",
   "metadata": {},
   "source": [
    "We need to know at least 4 elements to fill in the rank 1, so we can miss at most 8 and still complete, so we can miss at minimum 9 and not be able to complete it."
   ]
  },
  {
   "cell_type": "markdown",
   "metadata": {},
   "source": [
    "---\n",
    "# Question 2\n",
    "---"
   ]
  },
  {
   "cell_type": "code",
   "execution_count": 19,
   "metadata": {},
   "outputs": [
    {
     "name": "stdout",
     "output_type": "stream",
     "text": [
      "Number of NaNs in Y1: 136\n",
      "Number of NaNs in Y2: 76\n",
      "Number of NaNs in Y3: 16\n",
      "Difference between recovered Y1 and Xtrue: 87.24667705099742\n",
      "Difference between recovered Y2 and Xtrue: 0.00473559952740616\n",
      "Difference between recovered Y3 and Xtrue: 0.0007153218655176282\n"
     ]
    }
   ],
   "source": [
    "Xtrue = loadmat(\"incomplete.mat\")[\"Xtrue\"]\n",
    "Y1 = loadmat(\"incomplete.mat\")[\"Y1\"]\n",
    "Y2 = loadmat(\"incomplete.mat\")[\"Y2\"]\n",
    "Y3 = loadmat(\"incomplete.mat\")[\"Y3\"]\n",
    "\n",
    "def ItSingValThresh(Y, r=1):\n",
    "    \"\"\"\n",
    "    Iterative Singular Value Thresholding function for Matrix Completion\n",
    "    \"\"\"\n",
    "    tol = 10**(-3)  # difference between iterates at termination\n",
    "    max_its = 100;\n",
    "    n,p = Y.shape \n",
    "    X = np.array(Y) #make a copy so operations do not mutate the original\n",
    "    X[np.isnan(X)] = 0 # Fill in missing entries with zeros\n",
    "\n",
    "    err = 10**6 \n",
    "    itt = 0\n",
    "    \n",
    "    while err > tol and itt < max_its:\n",
    "        U,s,VT = np.linalg.svd(X, full_matrices=False)\n",
    "        V, S = VT.T, np.diag(s)\n",
    "        Xnew = U[:, :r] @ np.diag(s[:r]) @ V.T[:r, :] ### Complete this line\n",
    "        for i in range(n):\n",
    "            for j in range(p):\n",
    "                if ~np.isnan(Y[i,j]):  #replace Xnew with known entries\n",
    "                    Xnew[i,j] = Y[i,j]\n",
    "        err = np.linalg.norm(X-Xnew,'fro') \n",
    "        X = Xnew\n",
    "        itt += 1\n",
    "    return X\n",
    "\n",
    "recovered_Y1 = ItSingValThresh(Y1, r=2)\n",
    "recovered_Y2 = ItSingValThresh(Y2, r=2)\n",
    "recovered_Y3 = ItSingValThresh(Y3, r=2)\n",
    "\n",
    "num_nans_Y1 = np.sum(np.isnan(Y1))\n",
    "num_nans_Y2 = np.sum(np.isnan(Y2))\n",
    "num_nans_Y3 = np.sum(np.isnan(Y3))\n",
    "\n",
    "print(f\"Number of NaNs in Y1: {num_nans_Y1}\")\n",
    "print(f\"Number of NaNs in Y2: {num_nans_Y2}\")\n",
    "print(f\"Number of NaNs in Y3: {num_nans_Y3}\")\n",
    "\n",
    "print(\"Difference between recovered Y1 and Xtrue:\", np.linalg.norm(recovered_Y1 - Xtrue, 'fro'))\n",
    "print(\"Difference between recovered Y2 and Xtrue:\", np.linalg.norm(recovered_Y2 - Xtrue, 'fro'))\n",
    "print(\"Difference between recovered Y3 and Xtrue:\", np.linalg.norm(recovered_Y3 - Xtrue, 'fro'))\n"
   ]
  },
  {
   "cell_type": "markdown",
   "metadata": {},
   "source": [
    "We can see that less NaN's means less error"
   ]
  },
  {
   "cell_type": "markdown",
   "metadata": {},
   "source": [
    "##### Question 2-b"
   ]
  },
  {
   "cell_type": "code",
   "execution_count": 20,
   "metadata": {},
   "outputs": [
    {
     "name": "stdout",
     "output_type": "stream",
     "text": [
      "Difference between recovered Y1 and Xtrue (rank=3): 128.77804846772108\n",
      "Difference between recovered Y2 and Xtrue (rank=3): 48.97940976510773\n",
      "Difference between recovered Y3 and Xtrue (rank=3): 20.785069891601783\n"
     ]
    }
   ],
   "source": [
    "recovered_Y1_rank3 = ItSingValThresh(Y1, r=3)\n",
    "recovered_Y2_rank3 = ItSingValThresh(Y2, r=3)\n",
    "recovered_Y3_rank3 = ItSingValThresh(Y3, r=3)\n",
    "\n",
    "print(\"Difference between recovered Y1 and Xtrue (rank=3):\", np.linalg.norm(recovered_Y1_rank3 - Xtrue, 'fro'))\n",
    "print(\"Difference between recovered Y2 and Xtrue (rank=3):\", np.linalg.norm(recovered_Y2_rank3 - Xtrue, 'fro'))\n",
    "print(\"Difference between recovered Y3 and Xtrue (rank=3):\", np.linalg.norm(recovered_Y3_rank3 - Xtrue, 'fro'))\n"
   ]
  },
  {
   "cell_type": "markdown",
   "metadata": {},
   "source": [
    "The error is worse when we use the wrong rank"
   ]
  }
 ],
 "metadata": {
  "kernelspec": {
   "display_name": "Python 3",
   "language": "python",
   "name": "python3"
  },
  "language_info": {
   "codemirror_mode": {
    "name": "ipython",
    "version": 3
   },
   "file_extension": ".py",
   "mimetype": "text/x-python",
   "name": "python",
   "nbconvert_exporter": "python",
   "pygments_lexer": "ipython3",
   "version": "3.12.3"
  }
 },
 "nbformat": 4,
 "nbformat_minor": 4
}
