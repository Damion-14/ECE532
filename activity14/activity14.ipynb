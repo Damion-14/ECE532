{
 "cells": [
  {
   "cell_type": "markdown",
   "metadata": {},
   "source": [
    "### Activity 14\n",
    "Damion Huppert"
   ]
  },
  {
   "cell_type": "code",
   "execution_count": 33,
   "metadata": {},
   "outputs": [],
   "source": [
    "import numpy as np\n",
    "import matplotlib.pyplot as plt "
   ]
  },
  {
   "cell_type": "markdown",
   "metadata": {},
   "source": [
    "##### Question 1-a"
   ]
  },
  {
   "cell_type": "code",
   "execution_count": 34,
   "metadata": {},
   "outputs": [
    {
     "data": {
      "text/plain": [
       "{'e1': False, 'e2': True, 'e3': True, 'e4': True, 'e5': False}"
      ]
     },
     "execution_count": 34,
     "metadata": {},
     "output_type": "execute_result"
    }
   ],
   "source": [
    "B = np.array([[3, -1], [-1, 3]])\n",
    "eigenvalues, eigenvectors = np.linalg.eig(B)\n",
    "# Define the eigenvectors\n",
    "e1 = np.array([1, 2])\n",
    "e2 = np.array([1, 1])\n",
    "e3 = np.array([1, -1])\n",
    "e4 = np.array([-1, 1])\n",
    "e5 = np.array([2, 1])\n",
    "\n",
    "def check_eigenvector(B, v):\n",
    "    return np.allclose(B @ v, eigenvalues[0] * v) or np.allclose(B @ v, eigenvalues[1] * v)\n",
    "\n",
    "check_eigenvector_results = {\n",
    "    'e1': check_eigenvector(B, e1),\n",
    "    'e2': check_eigenvector(B, e2),\n",
    "    'e3': check_eigenvector(B, e3),\n",
    "    'e4': check_eigenvector(B, e4),\n",
    "    'e5': check_eigenvector(B, e5),\n",
    "}\n",
    "check_eigenvector_results\n"
   ]
  },
  {
   "cell_type": "markdown",
   "metadata": {},
   "source": [
    "##### Question 1-b"
   ]
  },
  {
   "cell_type": "code",
   "execution_count": 35,
   "metadata": {},
   "outputs": [
    {
     "data": {
      "text/plain": [
       "array([4., 2.])"
      ]
     },
     "execution_count": 35,
     "metadata": {},
     "output_type": "execute_result"
    }
   ],
   "source": [
    "eigenvalues"
   ]
  },
  {
   "cell_type": "markdown",
   "metadata": {},
   "source": [
    "##### Question 2"
   ]
  },
  {
   "cell_type": "markdown",
   "metadata": {},
   "source": [
    "The sign of the singular vectors are not unique because we can make u and v negative and the answer would still be the same"
   ]
  },
  {
   "cell_type": "markdown",
   "metadata": {},
   "source": [
    "#### 3a) "
   ]
  },
  {
   "cell_type": "code",
   "execution_count": 36,
   "metadata": {},
   "outputs": [
    {
     "name": "stdout",
     "output_type": "stream",
     "text": [
      "Unweighted adjacency matrix\n",
      "[[0. 1. 0. 0. 0. 0. 0. 1.]\n",
      " [1. 0. 1. 0. 0. 0. 0. 0.]\n",
      " [1. 1. 0. 1. 1. 0. 0. 0.]\n",
      " [0. 0. 1. 0. 1. 0. 0. 0.]\n",
      " [0. 0. 0. 1. 0. 1. 0. 0.]\n",
      " [0. 0. 0. 0. 1. 0. 1. 0.]\n",
      " [0. 0. 0. 0. 0. 1. 0. 1.]\n",
      " [1. 0. 0. 0. 0. 0. 1. 0.]]\n",
      " \n"
     ]
    }
   ],
   "source": [
    "# Circle topology\n",
    "# Unweighted adjacency matrix\n",
    "\n",
    "# # Option 1: Manually enter the entries\n",
    "# Atilde = np.array(\n",
    "#          [[0,1,0,0,0,0,0,1],\n",
    "#           [1,0,1,0,0,0,0,0],\n",
    "#           [1,1,0,1,1,0,0,0],\n",
    "#           [0,0,1,0,1,0,0,0],\n",
    "#           [0,0,0,1,0,1,0,0],\n",
    "#           [0,0,0,0,1,0,1,0],\n",
    "#           [0,0,0,0,0,1,0,1],\n",
    "#           [1,0,0,0,0,0,1,0]])\n",
    "\n",
    "# Option 2: or you can exploit the patterns\n",
    "Atilde = np.zeros((8,8))\n",
    "for i in range(8): # \n",
    "    Atilde[i,(i+1)%8] = 1\n",
    "    Atilde[i,(i-1)%8] = 1\n",
    "Atilde[2,0] = 1\n",
    "Atilde[2,4] = 1\n",
    "\n",
    "print('Unweighted adjacency matrix')\n",
    "print(Atilde)\n",
    "print(' ')"
   ]
  },
  {
   "cell_type": "markdown",
   "metadata": {},
   "source": [
    "#### 3b)"
   ]
  },
  {
   "cell_type": "code",
   "execution_count": 37,
   "metadata": {},
   "outputs": [
    {
     "name": "stdout",
     "output_type": "stream",
     "text": [
      "Weighted adjacency matrix:\n",
      "[[0.    0.5   0.    0.    0.    0.    0.    0.5  ]\n",
      " [0.333 0.    0.5   0.    0.    0.    0.    0.   ]\n",
      " [0.333 0.5   0.    0.5   0.333 0.    0.    0.   ]\n",
      " [0.    0.    0.5   0.    0.333 0.    0.    0.   ]\n",
      " [0.    0.    0.    0.5   0.    0.5   0.    0.   ]\n",
      " [0.    0.    0.    0.    0.333 0.    0.5   0.   ]\n",
      " [0.    0.    0.    0.    0.    0.5   0.    0.5  ]\n",
      " [0.333 0.    0.    0.    0.    0.    0.5   0.   ]]\n"
     ]
    }
   ],
   "source": [
    "# Find weighted adjacency matrix\n",
    "# option 1: normalize columns with a for loop\n",
    "A = np.zeros((8,8), dtype=float)\n",
    "for k in range(8):\n",
    "    norm = np.sum(Atilde[:,k])\n",
    "    A[:,k] = Atilde[:,k] / norm\n",
    "    \n",
    "# option 2: normalize using numpy.sum() and broadcasting, in a single line\n",
    "# A = ???\n",
    "np.set_printoptions(precision=3, suppress=True, linewidth=120)  # Control precision, suppress scientific notation, and set line width\n",
    "print('Weighted adjacency matrix:')\n",
    "print(A)"
   ]
  },
  {
   "cell_type": "markdown",
   "metadata": {},
   "source": [
    "#### 3c) and 3d)"
   ]
  },
  {
   "cell_type": "code",
   "execution_count": 38,
   "metadata": {},
   "outputs": [
    {
     "name": "stdout",
     "output_type": "stream",
     "text": [
      "b0 =  [[0.125]\n",
      " [0.125]\n",
      " [0.125]\n",
      " [0.125]\n",
      " [0.125]\n",
      " [0.125]\n",
      " [0.125]\n",
      " [0.125]]\n",
      " \n",
      "b1 =  [[0.125]\n",
      " [0.104]\n",
      " [0.208]\n",
      " [0.104]\n",
      " [0.125]\n",
      " [0.104]\n",
      " [0.125]\n",
      " [0.104]]\n",
      " \n",
      "1000 iterations\n",
      "b =  [[0.115]\n",
      " [0.154]\n",
      " [0.231]\n",
      " [0.154]\n",
      " [0.115]\n",
      " [0.077]\n",
      " [0.077]\n",
      " [0.077]]\n"
     ]
    }
   ],
   "source": [
    "# Power method\n",
    "\n",
    "b0 = 0.125*np.ones((8,1))\n",
    "print('b0 = ', b0)\n",
    "print(' ')\n",
    "\n",
    "b1 = A @ b0\n",
    "print('b1 = ', b1)\n",
    "print(' ')\n",
    "\n",
    "b = b0.copy()\n",
    "for k in range(100):\n",
    "    b =  A @ b\n",
    "    \n",
    "print('1000 iterations')\n",
    "print('b = ',b)\n"
   ]
  },
  {
   "cell_type": "markdown",
   "metadata": {},
   "source": [
    "#### 3e) Explanation goes here.  \n",
    "Node 3 is more important than others  which makes sense because it has the most edges pointing into it"
   ]
  },
  {
   "cell_type": "markdown",
   "metadata": {},
   "source": [
    "#### 4a)"
   ]
  },
  {
   "cell_type": "code",
   "execution_count": 47,
   "metadata": {},
   "outputs": [
    {
     "name": "stdout",
     "output_type": "stream",
     "text": [
      "Unweighted adjacency matrix\n",
      "[[0. 0. 0. 0. 0. 0. 0. 0. 1.]\n",
      " [1. 0. 0. 0. 0. 0. 0. 0. 1.]\n",
      " [0. 0. 0. 0. 0. 0. 0. 0. 1.]\n",
      " [0. 0. 0. 0. 0. 0. 0. 0. 1.]\n",
      " [0. 0. 0. 0. 0. 0. 0. 0. 1.]\n",
      " [0. 0. 0. 0. 0. 0. 0. 0. 1.]\n",
      " [0. 0. 0. 0. 0. 0. 0. 0. 1.]\n",
      " [0. 0. 0. 0. 0. 0. 0. 0. 1.]\n",
      " [1. 1. 1. 1. 1. 1. 1. 1. 1.]]\n",
      " \n"
     ]
    }
   ],
   "source": [
    "# Hub topology\n",
    "\n",
    "Atildehub = np.zeros((9,9))\n",
    "for i in range(9): # \n",
    "    Atildehub[i,8] = 1\n",
    "    Atildehub[8,i] = 1\n",
    "Atildehub[1,0] = 1\n",
    "print('Unweighted adjacency matrix')\n",
    "print(Atildehub)\n",
    "print(' ')"
   ]
  },
  {
   "cell_type": "markdown",
   "metadata": {},
   "source": [
    "#### 4b)"
   ]
  },
  {
   "cell_type": "code",
   "execution_count": 48,
   "metadata": {},
   "outputs": [
    {
     "name": "stdout",
     "output_type": "stream",
     "text": [
      "Weighted adjacency matrix\n",
      "[[0.    0.    0.    0.    0.    0.    0.    0.    0.111]\n",
      " [0.5   0.    0.    0.    0.    0.    0.    0.    0.111]\n",
      " [0.    0.    0.    0.    0.    0.    0.    0.    0.111]\n",
      " [0.    0.    0.    0.    0.    0.    0.    0.    0.111]\n",
      " [0.    0.    0.    0.    0.    0.    0.    0.    0.111]\n",
      " [0.    0.    0.    0.    0.    0.    0.    0.    0.111]\n",
      " [0.    0.    0.    0.    0.    0.    0.    0.    0.111]\n",
      " [0.    0.    0.    0.    0.    0.    0.    0.    0.111]\n",
      " [0.5   1.    1.    1.    1.    1.    1.    1.    0.111]]\n"
     ]
    }
   ],
   "source": [
    "\n",
    "# find weighted adjacency matrix\n",
    "\n",
    "Ahub = np.zeros((9,9), dtype=float)\n",
    "for k in range(9):\n",
    "    norm = np.sum(Atildehub[:,k])\n",
    "    Ahub[:,k] = Atildehub[:,k] / norm  \n",
    "\n",
    "print('Weighted adjacency matrix')\n",
    "print(Ahub)"
   ]
  },
  {
   "cell_type": "markdown",
   "metadata": {},
   "source": [
    "#### 4c) and 4d)"
   ]
  },
  {
   "cell_type": "code",
   "execution_count": 49,
   "metadata": {},
   "outputs": [
    {
     "name": "stdout",
     "output_type": "stream",
     "text": [
      "b0 =  [[0.111]\n",
      " [0.111]\n",
      " [0.111]\n",
      " [0.111]\n",
      " [0.111]\n",
      " [0.111]\n",
      " [0.111]\n",
      " [0.111]\n",
      " [0.111]]\n",
      " \n",
      "bhub1 =  [[0.012]\n",
      " [0.068]\n",
      " [0.012]\n",
      " [0.012]\n",
      " [0.012]\n",
      " [0.012]\n",
      " [0.012]\n",
      " [0.012]\n",
      " [0.846]]\n",
      " \n",
      "1000 iterations\n",
      "bhub =  [[0.057]\n",
      " [0.086]\n",
      " [0.057]\n",
      " [0.057]\n",
      " [0.057]\n",
      " [0.057]\n",
      " [0.057]\n",
      " [0.057]\n",
      " [0.514]]\n",
      " \n",
      "100 iterations\n",
      "bhubr =  [[0.057]\n",
      " [0.086]\n",
      " [0.057]\n",
      " [0.057]\n",
      " [0.057]\n",
      " [0.057]\n",
      " [0.057]\n",
      " [0.057]\n",
      " [0.514]]\n"
     ]
    }
   ],
   "source": [
    "b0 = (1/9)*np.ones((9,1))\n",
    "print('b0 = ', b0)\n",
    "print(' ')\n",
    "\n",
    "bhub1 = Ahub @ b0\n",
    "print('bhub1 = ', bhub1)\n",
    "print(' ')\n",
    "\n",
    "bhub = b0.copy()\n",
    "for k in range(1000):\n",
    "    bhub = Ahub @ bhub\n",
    "    \n",
    "print('1000 iterations')\n",
    "print('bhub = ', bhub)\n",
    "print(' ')\n",
    "\n",
    "bhubr = b0.copy()\n",
    "for k in range(100):\n",
    "    bhubr = Ahub @ bhubr\n",
    "    \n",
    "print('100 iterations')\n",
    "print('bhubr = ',bhubr)"
   ]
  },
  {
   "cell_type": "markdown",
   "metadata": {},
   "source": [
    "#### Complete 4e and 4f below."
   ]
  },
  {
   "cell_type": "markdown",
   "metadata": {},
   "source": [
    "E)  \n",
    "Node 9 is more important than the others and node 1 is more important than the other non-important ones because they have a higher probability"
   ]
  },
  {
   "cell_type": "markdown",
   "metadata": {},
   "source": [
    "F)  \n",
    "solved for 100 above"
   ]
  },
  {
   "cell_type": "markdown",
   "metadata": {},
   "source": []
  }
 ],
 "metadata": {
  "kernelspec": {
   "display_name": "Python 3",
   "language": "python",
   "name": "python3"
  },
  "language_info": {
   "codemirror_mode": {
    "name": "ipython",
    "version": 3
   },
   "file_extension": ".py",
   "mimetype": "text/x-python",
   "name": "python",
   "nbconvert_exporter": "python",
   "pygments_lexer": "ipython3",
   "version": "3.12.3"
  }
 },
 "nbformat": 4,
 "nbformat_minor": 4
}
