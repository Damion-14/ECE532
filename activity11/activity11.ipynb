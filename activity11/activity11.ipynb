{
 "cells": [
  {
   "cell_type": "code",
   "execution_count": 108,
   "metadata": {},
   "outputs": [],
   "source": [
    "import numpy as np\n",
    "from scipy.io import loadmat\n",
    "\n",
    "def kMeans(X, K, maxIters = 20):\n",
    "\n",
    "    centroids = X[np.random.choice(len(X), K)]\n",
    "    for i in range(maxIters):\n",
    "        # Cluster Assignment step\n",
    "        C = np.array([np.argmin([(x_i-y_k)@(x_i-y_k) for y_k in centroids]) for x_i in X])\n",
    "        # Update centroids step \n",
    "        centroids = []\n",
    "        for k in range(K):\n",
    "            if (C == k).any():\n",
    "                centroids.append( X[C == k].mean(axis = 0) )\n",
    "            else: # if there are no data points assigned to this certain centroid\n",
    "                centroids.append( X[np.random.choice(len(X))] )\n",
    "    return np.array(centroids) , C\n",
    "\n",
    "# Load data for activity\n",
    "in_data = loadmat('Period11Activity.mat')\n",
    "X = in_data['X']\n",
    "\n",
    "rows, cols = np.shape(X)"
   ]
  },
  {
   "cell_type": "markdown",
   "metadata": {},
   "source": [
    "##### Question 1-a"
   ]
  },
  {
   "cell_type": "code",
   "execution_count": 109,
   "metadata": {},
   "outputs": [
    {
     "name": "stdout",
     "output_type": "stream",
     "text": [
      "X = \n",
      "[[ 4  7  2  8  7  4  2]\n",
      " [ 9  3  5  6 10  5  5]\n",
      " [ 4  8  3  7  6  4  1]\n",
      " [ 9  2  6  5  9  5  4]\n",
      " [ 4  9  2  8  7  4  1]]\n",
      "\n",
      "centroid assigned = \n",
      "[1 0 1 0 0 1 1]\n",
      "\n",
      "centroids =\n",
      "[[7.333 3.   ]\n",
      " [6.333 6.   ]\n",
      " [7.    3.   ]\n",
      " [5.333 6.   ]\n",
      " [8.    2.75 ]]\n",
      "\n"
     ]
    }
   ],
   "source": [
    "# k-means with 2 clusters\n",
    "centroids, C = kMeans(X.transpose(), K = 2)\n",
    "\n",
    "print('X = ', X, sep=\"\\n\", end='\\n\\n')\n",
    "print('centroid assigned = ',C, sep=\"\\n\", end='\\n\\n')\n",
    "print('centroids =', centroids.T.round(3), sep=\"\\n\", end='\\n\\n')"
   ]
  },
  {
   "cell_type": "code",
   "execution_count": 110,
   "metadata": {},
   "outputs": [
    {
     "name": "stdout",
     "output_type": "stream",
     "text": [
      "Rank-2 Approximation = \n",
      "[[3.    7.333 3.    7.333 7.333 3.    3.   ]\n",
      " [6.    6.333 6.    6.333 6.333 6.    6.   ]\n",
      " [3.    7.    3.    7.    7.    3.    3.   ]\n",
      " [6.    5.333 6.    5.333 5.333 6.    6.   ]\n",
      " [2.75  8.    2.75  8.    8.    2.75  2.75 ]]\n",
      "\n"
     ]
    }
   ],
   "source": [
    "# Construct rank-2 approximation using clusters\n",
    "\n",
    "Xhat_2 = np.zeros((rows,cols),float)\n",
    "for i in range(cols):\n",
    "    Xhat_2[:,i]=centroids.transpose()[:,C[i]]\n",
    "    \n",
    "print('Rank-2 Approximation = ', Xhat_2.round(3), sep=\"\\n\", end='\\n\\n')"
   ]
  },
  {
   "cell_type": "markdown",
   "metadata": {},
   "source": [
    "The 2 rank matrix is a close rounding to the original"
   ]
  },
  {
   "cell_type": "markdown",
   "metadata": {},
   "source": [
    "##### Question 1-b"
   ]
  },
  {
   "cell_type": "code",
   "execution_count": 111,
   "metadata": {},
   "outputs": [
    {
     "name": "stdout",
     "output_type": "stream",
     "text": [
      "X = \n",
      "[[ 4  7  2  8  7  4  2]\n",
      " [ 9  3  5  6 10  5  5]\n",
      " [ 4  8  3  7  6  4  1]\n",
      " [ 9  2  6  5  9  5  4]\n",
      " [ 4  9  2  8  7  4  1]]\n",
      "\n",
      "centroid assigned = \n",
      "[1 0 0 0 2 0 0]\n",
      "\n",
      "centroids =\n",
      "[[ 4.6  4.   7. ]\n",
      " [ 4.8  9.  10. ]\n",
      " [ 4.6  4.   6. ]\n",
      " [ 4.4  9.   9. ]\n",
      " [ 4.8  4.   7. ]]\n",
      "\n"
     ]
    }
   ],
   "source": [
    "# k-means with 3 clusters\n",
    "centroids, C = kMeans(X.transpose(), K = 3)\n",
    "\n",
    "# add code here\n",
    "print('X = ', X, sep=\"\\n\", end='\\n\\n')\n",
    "print('centroid assigned = ',C, sep=\"\\n\", end='\\n\\n')\n",
    "print('centroids =', centroids.T.round(3), sep=\"\\n\", end='\\n\\n')"
   ]
  },
  {
   "cell_type": "code",
   "execution_count": 112,
   "metadata": {},
   "outputs": [
    {
     "name": "stdout",
     "output_type": "stream",
     "text": [
      "Rank-3 Approximation = \n",
      "[[ 4.   4.6  4.6  4.6  7.   4.6  4.6]\n",
      " [ 9.   4.8  4.8  4.8 10.   4.8  4.8]\n",
      " [ 4.   4.6  4.6  4.6  6.   4.6  4.6]\n",
      " [ 9.   4.4  4.4  4.4  9.   4.4  4.4]\n",
      " [ 4.   4.8  4.8  4.8  7.   4.8  4.8]]\n",
      "\n"
     ]
    }
   ],
   "source": [
    "# Construct rank-3 approximation using clusters\n",
    "# add code here\n",
    "\n",
    "Xhat_3 = np.zeros((rows,cols),float)\n",
    "for i in range(cols):\n",
    "    Xhat_3[:,i]=centroids.transpose()[:,C[i]]\n",
    "    \n",
    "print('Rank-3 Approximation = ', Xhat_3.round(3), sep=\"\\n\", end='\\n\\n')"
   ]
  },
  {
   "cell_type": "markdown",
   "metadata": {},
   "source": [
    "The 3 rank approx is a closer approx than the 2 rank but still rounds ratings a bit"
   ]
  },
  {
   "cell_type": "markdown",
   "metadata": {},
   "source": [
    "##### Question 1-c"
   ]
  },
  {
   "cell_type": "code",
   "execution_count": 113,
   "metadata": {},
   "outputs": [
    {
     "name": "stdout",
     "output_type": "stream",
     "text": [
      "U = \n",
      "[[ 0.419  0.319  0.565 -0.634  0.043]\n",
      " [ 0.506 -0.469  0.402  0.428 -0.424]\n",
      " [ 0.402  0.372 -0.582 -0.106 -0.592]\n",
      " [ 0.466 -0.552 -0.424 -0.318  0.444]\n",
      " [ 0.436  0.485 -0.019  0.55   0.521]]\n",
      "\n",
      "Singular Values = \n",
      "[32.952 10.165  1.788  0.699  0.407]\n",
      "\n",
      "V^T = \n",
      "[[ 0.418  0.38   0.25   0.456  0.536  0.3    0.184]\n",
      " [-0.441  0.695 -0.289  0.34  -0.177 -0.04  -0.301]\n",
      " [-0.191 -0.286 -0.664  0.329  0.3   -0.142  0.472]\n",
      " [ 0.329  0.445 -0.363 -0.626  0.276 -0.301  0.062]\n",
      " [ 0.174 -0.306 -0.252  0.121  0.385 -0.023 -0.806]]\n",
      "\n"
     ]
    }
   ],
   "source": [
    "U,s,VT = np.linalg.svd(X,full_matrices=False)\n",
    "\n",
    "print('U = ',U.round(3), sep=\"\\n\", end='\\n\\n')\n",
    "print('Singular Values = ',s.round(3), sep=\"\\n\", end='\\n\\n')\n",
    "print('V^T = ',VT.round(3), sep=\"\\n\", end='\\n\\n')"
   ]
  },
  {
   "cell_type": "code",
   "execution_count": 114,
   "metadata": {},
   "outputs": [
    {
     "name": "stdout",
     "output_type": "stream",
     "text": [
      "Taste for rank-1 = \n",
      "[0.419 0.506 0.402 0.466 0.436]\n",
      "\n",
      "Weights for rank-1 = \n",
      "[13.773 12.521  8.24  15.017 17.647  9.886  6.068]\n",
      "\n",
      "Rank-1 Approximation = \n",
      "[[5.766 5.242 3.45  6.286 7.387 4.139 2.54 ]\n",
      " [6.964 6.331 4.167 7.593 8.923 4.999 3.068]\n",
      " [5.538 5.035 3.313 6.038 7.095 3.975 2.44 ]\n",
      " [6.419 5.835 3.84  6.998 8.224 4.607 2.828]\n",
      " [6.006 5.461 3.594 6.549 7.696 4.311 2.646]]\n",
      "\n"
     ]
    }
   ],
   "source": [
    "# svd rank-1 approximation\n",
    "T = U[:,0]\n",
    "print('Taste for rank-1 = ', T.round(3), sep=\"\\n\", end='\\n\\n')\n",
    "\n",
    "W = s[0]*VT[0,:]\n",
    "print('Weights for rank-1 = ',W.round(3), sep=\"\\n\", end='\\n\\n')\n",
    "\n",
    "X_1 = s[0]*U[:,[0]]@VT[[0],:]\n",
    "print(\"Rank-1 Approximation = \",X_1.round(3), sep=\"\\n\", end='\\n\\n')"
   ]
  },
  {
   "cell_type": "code",
   "execution_count": 115,
   "metadata": {},
   "outputs": [
    {
     "name": "stdout",
     "output_type": "stream",
     "text": [
      "Taste for rank-2 = \n",
      "[[ 0.419  0.319]\n",
      " [ 0.506 -0.469]\n",
      " [ 0.402  0.372]\n",
      " [ 0.466 -0.552]\n",
      " [ 0.436  0.485]]\n",
      "\n",
      "Weights for rank-2 = \n",
      "[[13.773 12.521  8.24  15.017 17.647  9.886  6.068]\n",
      " [-4.488  7.06  -2.935  3.458 -1.802 -0.403 -3.059]]\n",
      "\n",
      "Rank-2 Approximation = \n",
      "[[4.336 7.491 2.515 7.388 6.813 4.01  1.565]\n",
      " [9.069 3.02  5.543 5.971 9.768 5.188 4.503]\n",
      " [3.868 7.662 2.221 7.325 6.425 3.825 1.301]\n",
      " [8.897 1.937 5.461 5.089 9.219 4.83  4.517]\n",
      " [3.83  8.884 2.171 8.226 6.822 4.116 1.163]]\n",
      "\n"
     ]
    }
   ],
   "source": [
    "# svd rank-2 approximation\n",
    "T = U[:,:2] # add code here \n",
    "\n",
    "print('Taste for rank-2 = ', T.round(3), sep=\"\\n\", end='\\n\\n')\n",
    "\n",
    "W = np.vstack((s[0]*VT[0,:],s[1]*VT[1,:]))\n",
    "print('Weights for rank-2 = ', W.round(3), sep=\"\\n\", end='\\n\\n')\n",
    "\n",
    "X_2 = s[:2]*U[:,[0,1]]@VT[[0,1],:]\n",
    "\n",
    "print('Rank-2 Approximation = ',X_2.round(3), sep=\"\\n\", end='\\n\\n')"
   ]
  },
  {
   "cell_type": "code",
   "execution_count": 116,
   "metadata": {},
   "outputs": [
    {
     "name": "stdout",
     "output_type": "stream",
     "text": [
      "Jon ratings =\n",
      "[[6.   ]\n",
      " [4.   ]\n",
      " [6.014]\n",
      " [3.231]\n",
      " [6.832]]\n",
      "\n"
     ]
    }
   ],
   "source": [
    "# Use svd to predict Jon's ratings\n",
    "\n",
    "# first two tastes\n",
    "T = U[:,:2]\n",
    "\n",
    "# tastes for which we have ratings\n",
    "G = T[:2,:2]\n",
    "\n",
    "# ratings for first two movies\n",
    "y = np.array([[6], [4]])\n",
    "\n",
    "# use first two movies to find weights for tastes\n",
    "a = np.linalg.inv(G.transpose()@G)@G.transpose()@y\n",
    "\n",
    "# now use weights and tastes to predict all ratings\n",
    "Jon_ratings = T@a\n",
    "\n",
    "print('Jon ratings =',Jon_ratings.round(3), sep=\"\\n\", end='\\n\\n')"
   ]
  },
  {
   "cell_type": "code",
   "execution_count": 120,
   "metadata": {},
   "outputs": [],
   "source": [
    "U = (1/2) * np.array([\n",
    "    [1,  1],\n",
    "    [-1,  1],\n",
    "    [-1, -1],\n",
    "    [1, -1]\n",
    "])\n",
    "γ = 1 # CHANGE\n",
    "S = np.array([\n",
    "    [1, 0],\n",
    "    [0, γ]\n",
    "])\n",
    "V = (1/np.sqrt(2)) * np.array([\n",
    "    [1, 1],\n",
    "    [1, -1]\n",
    "])\n"
   ]
  },
  {
   "cell_type": "markdown",
   "metadata": {},
   "source": [
    "##### Questoin 2-a"
   ]
  },
  {
   "cell_type": "markdown",
   "metadata": {},
   "source": [
    "$$\n",
    "\\min_w ||Xw - y||_2^2\n",
    "$$\n",
    "$$\n",
    "w = (X^TX)^{-1}X^Ty\n",
    "$$\n",
    "$$\n",
    "X = U S V^T\n",
    "$$\n",
    "$$\n",
    "X^TX = (U S V^T)^T(U S V^T) = V S^T U^T U S V^T = V S^T S V^T\n",
    "$$\n",
    "$$\n",
    "(X^TX)^{-1} = (V S^T S V^T)^{-1} = V (S^T S)^{-1} V^T\n",
    "$$\n",
    "$$\n",
    "w = V (S^T S)^{-1} V^T V S^T U^T y\n",
    "= V S^{-1} U^T y\n",
    "$$\n",
    "$$\n",
    "w = V S^{-1} U^T y\n",
    "$$"
   ]
  },
  {
   "cell_type": "markdown",
   "metadata": {},
   "source": [
    "##### Question 2-b"
   ]
  },
  {
   "cell_type": "code",
   "execution_count": 118,
   "metadata": {},
   "outputs": [],
   "source": [
    "y = np.array([\n",
    "    [1],\n",
    "    [0],\n",
    "    [0],\n",
    "    [1]\n",
    "])"
   ]
  },
  {
   "cell_type": "markdown",
   "metadata": {},
   "source": [
    "$$\n",
    "w =\n",
    "\\frac{1}{\\sqrt{2}}\n",
    "\\begin{bmatrix}\n",
    "1 & 1 \\\\ 1 & -1\n",
    "\\end{bmatrix}\n",
    "\\begin{bmatrix}\n",
    "1 & 0 \\\\ 0 & \\frac{1}{\\gamma}\n",
    "\\end{bmatrix}\n",
    "\\frac{1}{2}\n",
    "\\begin{bmatrix}\n",
    "1 & 1 & 1 & 1 \\\\ 1 & -1 & -1 & 1\n",
    "\\end{bmatrix}\n",
    "\\begin{bmatrix}\n",
    "1 \\\\ 0 \\\\ 0 \\\\ 1\n",
    "\\end{bmatrix}\n",
    "$$\n",
    "\n",
    "$$\n",
    "w =\n",
    "\\frac{1}{2\\sqrt{2}}\n",
    "\\begin{bmatrix}\n",
    "1 & 1 \\\\ 1 & -1\n",
    "\\end{bmatrix}\n",
    "\\begin{bmatrix}\n",
    "1 & 0 \\\\ 0 & \\frac{1}{\\gamma}\n",
    "\\end{bmatrix}\n",
    "\\begin{bmatrix}\n",
    "1 \\\\ 1\n",
    "\\end{bmatrix}\n",
    "$$\n",
    "\n",
    "$$\n",
    "w =\n",
    "\\frac{1}{2\\sqrt{2}}\n",
    "\\begin{bmatrix}\n",
    "1 & 1 \\\\ 1 & -1\n",
    "\\end{bmatrix}\n",
    "\\begin{bmatrix}\n",
    "1 \\\\ \\frac{1}{\\gamma}\n",
    "\\end{bmatrix}\n",
    "$$\n",
    "\n",
    "$$\n",
    "w =\n",
    "\\frac{1}{2\\sqrt{2}}\n",
    "\\begin{bmatrix}\n",
    "\\frac{\\gamma + 1}{\\gamma} \\\\\n",
    "\\frac{\\gamma - 1}{\\gamma}\n",
    "\\end{bmatrix}\n",
    "$$"
   ]
  },
  {
   "cell_type": "markdown",
   "metadata": {},
   "source": [
    "$$\n",
    "||y - Xw||_2^2\n",
    "$$\n",
    "$$\n",
    "(y - Xw)^T(y - Xw) = (y^T - w^TX^T)(y - Xw) = y^Ty - y^TXw - w^TX^Ty + w^TX^TXw = y^Ty - 2y^TXw + w^TX^TXw\n",
    "$$\n",
    "$$\n",
    "||y - Xw||_2^2 = y^Ty - 2y^TXw + w^TX^TXw\n",
    "= y^Ty - 2y^T(U S V^T)w + w^T(U S V^T)^T(U S V^T)w\n",
    "= y^Ty - 2y^TU S V^Tw + w^TV S^T S V^Tw\n",
    "$$\n",
    "\n",
    "$$\n",
    "y^T y = \\begin{bmatrix} 1 & 0 & 0 & 1 \\end{bmatrix} \\begin{bmatrix} 1 \\\\ 0 \\\\ 0 \\\\ 1 \\end{bmatrix} = 1^2 + 0^2 + 0^2 + 1^2 = 2\n",
    "$$\n",
    "\n",
    "$$\n",
    "2y^TU S V^Tw = 2 \\begin{bmatrix} 1 & 0 & 0 & 1 \\end{bmatrix} \\frac{1}{2\\sqrt{2}} \\begin{bmatrix} 1 + \\gamma & 1 - \\gamma \\\\ -1 + \\gamma & -1 - \\gamma \\\\ -1 - \\gamma & -1 + \\gamma \\\\ 1 - \\gamma & 1 + \\gamma \\end{bmatrix}  \\frac{1}{2\\sqrt{2}}\n",
    "\\begin{bmatrix}\n",
    "\\frac{\\gamma + 1}{\\gamma} \\\\\n",
    "\\frac{\\gamma - 1}{\\gamma}\n",
    "\\end{bmatrix}\n",
    "=\n",
    "2\\sqrt{2}\n",
    "$$\n",
    "\n",
    "$$\n",
    "w^TV S^T S V^Tw = 2(\\gamma + 1)\n",
    "$$\n",
    "\n",
    "$$\n",
    "2 - 2\\sqrt{2} + 2(\\gamma + 1)\n",
    "$$\n",
    "\n",
    "$$\n",
    "||w||_2^2\n",
    "=\n",
    "w^T w =\n",
    "\\left( \\frac{1}{2\\sqrt{2}} \\right)^2\n",
    "\\begin{bmatrix}\n",
    "\\frac{\\gamma + 1}{\\gamma} & \\frac{\\gamma - 1}{\\gamma}\n",
    "\\end{bmatrix}\n",
    "\\begin{bmatrix}\n",
    "\\frac{\\gamma + 1}{\\gamma} \\\\\n",
    "\\frac{\\gamma - 1}{\\gamma}\n",
    "\\end{bmatrix}\n",
    "=\n",
    "\\frac{\\gamma^2 + 1}{4\\gamma^2}\n",
    "$$"
   ]
  },
  {
   "cell_type": "markdown",
   "metadata": {},
   "source": [
    "As $ \\gamma $ approaches 0 $||w||_2^2$ goes to infinity"
   ]
  },
  {
   "cell_type": "markdown",
   "metadata": {},
   "source": [
    "##### Question 2-c"
   ]
  },
  {
   "cell_type": "markdown",
   "metadata": {},
   "source": [
    "$$\n",
    "w = \\frac{1}{\\sigma_1} v_1 u_1^T y\n",
    "=\n",
    "\\frac{1}{1}\n",
    "\\frac{1}{\\sqrt{2}}\n",
    "\\begin{bmatrix}\n",
    "1 \\\\ 1\n",
    "\\end{bmatrix}\n",
    "\\frac{1}{2}\n",
    "\\begin{bmatrix}\n",
    "1 & -1 & -1 & 1 \n",
    "\\end{bmatrix}\n",
    "\\begin{bmatrix}\n",
    "1 \\\\ 0 \\\\ 0 \\\\ 1\n",
    "\\end{bmatrix}\n",
    "=\n",
    "\\frac{1}{\\sqrt{2}}\n",
    "\\begin{bmatrix}\n",
    "1 \\\\ 1\n",
    "\\end{bmatrix}\n",
    "\n",
    "$$\n",
    "$$\n",
    "||y - Xw||_2^2 = y^Ty - 2y^TU S V^Tw + w^TV S^T S V^Tw\n",
    "=\n",
    "\\sqrt{2}\n",
    "$$\n",
    "$$\n",
    "||w||_2^2 = w^T w\n",
    "=\n",
    "1\n",
    "$$"
   ]
  },
  {
   "cell_type": "markdown",
   "metadata": {},
   "source": [
    "The values are constant with the rank 1 approx"
   ]
  },
  {
   "cell_type": "markdown",
   "metadata": {},
   "source": []
  }
 ],
 "metadata": {
  "kernelspec": {
   "display_name": "Python 3",
   "language": "python",
   "name": "python3"
  },
  "language_info": {
   "codemirror_mode": {
    "name": "ipython",
    "version": 3
   },
   "file_extension": ".py",
   "mimetype": "text/x-python",
   "name": "python",
   "nbconvert_exporter": "python",
   "pygments_lexer": "ipython3",
   "version": "3.12.3"
  }
 },
 "nbformat": 4,
 "nbformat_minor": 2
}
